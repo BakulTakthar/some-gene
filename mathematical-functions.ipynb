{
 "cells": [
  {
   "cell_type": "markdown",
   "id": "8e640290",
   "metadata": {},
   "source": [
    "# using computer science ideas to revisit some mathematical functions using python\n",
    "\n",
    "## revelance includes\n",
    "### 1) mathematics students and passionate learners\n",
    "### 2) class 11th students learning from CBSE and NCERT curriculum.\n",
    "### 3) anyone with a passion for learning :)\n"
   ]
  },
  {
   "cell_type": "code",
   "execution_count": 1,
   "id": "e9fec88e",
   "metadata": {},
   "outputs": [],
   "source": [
    "import matplotlib.pyplot as plt\n",
    "import math as math\n",
    "import numpy as np"
   ]
  },
  {
   "cell_type": "markdown",
   "id": "4341d517",
   "metadata": {},
   "source": [
    "<h1> identity function </h1>\n",
    "\n",
    "### f(x) = x\n",
    "### y = x\n",
    "### the abcissa and the oordinate are the same value in every iteration, hence it gives us the <u>straight line</u> with a slope towards the right direction (towards the positive x axis)"
   ]
  },
  {
   "cell_type": "code",
   "execution_count": 2,
   "id": "9a6fbf2d",
   "metadata": {},
   "outputs": [
    {
     "ename": "NameError",
     "evalue": "name 'x' is not defined",
     "output_type": "error",
     "traceback": [
      "\u001b[0;31m---------------------------------------------------------------------------\u001b[0m",
      "\u001b[0;31mNameError\u001b[0m                                 Traceback (most recent call last)",
      "\u001b[0;32m/tmp/ipykernel_16413/2882381839.py\u001b[0m in \u001b[0;36m<module>\u001b[0;34m\u001b[0m\n\u001b[1;32m      5\u001b[0m \u001b[0;32mfor\u001b[0m \u001b[0mi\u001b[0m \u001b[0;32min\u001b[0m \u001b[0mrange\u001b[0m\u001b[0;34m(\u001b[0m\u001b[0;34m-\u001b[0m\u001b[0;36m51\u001b[0m\u001b[0;34m,\u001b[0m \u001b[0;36m51\u001b[0m\u001b[0;34m)\u001b[0m\u001b[0;34m:\u001b[0m\u001b[0;34m\u001b[0m\u001b[0;34m\u001b[0m\u001b[0m\n\u001b[1;32m      6\u001b[0m \u001b[0;34m\u001b[0m\u001b[0m\n\u001b[0;32m----> 7\u001b[0;31m     \u001b[0mf_x\u001b[0m \u001b[0;34m=\u001b[0m \u001b[0mx\u001b[0m\u001b[0;34m\u001b[0m\u001b[0;34m\u001b[0m\u001b[0m\n\u001b[0m\u001b[1;32m      8\u001b[0m     \u001b[0mX\u001b[0m\u001b[0;34m.\u001b[0m\u001b[0mappend\u001b[0m\u001b[0;34m(\u001b[0m\u001b[0mi\u001b[0m\u001b[0;34m)\u001b[0m\u001b[0;34m\u001b[0m\u001b[0;34m\u001b[0m\u001b[0m\n\u001b[1;32m      9\u001b[0m \u001b[0;34m\u001b[0m\u001b[0m\n",
      "\u001b[0;31mNameError\u001b[0m: name 'x' is not defined"
     ]
    }
   ],
   "source": [
    "X = []\n",
    "Y = []\n",
    "\n",
    "i = -50\n",
    "for i in range(-51, 51):\n",
    "    \n",
    "    f_x = x\n",
    "    X.append(i)\n",
    "    \n",
    "    Y.append(i)\n",
    "  \n",
    "    i += 1\n",
    "    \n",
    "\n",
    "plt.title(\"identity function\")\n",
    "plt.xlabel(\"x\")\n",
    "plt.ylabel(\"f(x) or Y\")\n",
    "plt.plot(X, Y, 0.5)\n",
    "plt.grid(color = 'red', linestyle = '-', linewidth = 0.5)\n",
    "plt.show()\n",
    "\n"
   ]
  },
  {
   "cell_type": "code",
   "execution_count": null,
   "id": "8a509788",
   "metadata": {},
   "outputs": [],
   "source": [
    "X = []\n",
    "Y = []\n",
    "\n",
    "x = -50\n",
    "for i in range(-51, 51):\n",
    "    \n",
    "    funx = x**2\n",
    "    \n",
    "    X.append(x)\n",
    "    \n",
    "    Y.append(funx)\n",
    "  \n",
    "    x += 1\n",
    "    \n",
    "\n",
    "\n",
    "\n",
    "\n",
    "plt.title(\"square function\")\n",
    "plt.xlabel(\"x\")\n",
    "plt.ylabel(\"f(x) or Y\")\n",
    "plt.plot(X, Y, 0.5)\n",
    "plt.grid(color = 'red', linewidth = 0.5)\n",
    "plt.show()"
   ]
  },
  {
   "cell_type": "code",
   "execution_count": null,
   "id": "de7f4fa4",
   "metadata": {},
   "outputs": [],
   "source": [
    "X = []\n",
    "Y = []\n",
    "\n",
    "x = -50\n",
    "for i in range(-51, 51):\n",
    "    \n",
    "    funx = x**3\n",
    "    \n",
    "    X.append(x)\n",
    "    \n",
    "    Y.append(funx)\n",
    "  \n",
    "    x += 1\n",
    "    \n",
    "\n",
    "\n",
    "\n",
    "\n",
    "plt.title(\"cubic function\")\n",
    "plt.xlabel(\"x\")\n",
    "plt.ylabel(\"f(x) or Y\")\n",
    "plt.plot(X, Y, 0.5)\n",
    "plt.grid(color = 'red', linewidth = 0.5)\n",
    "plt.show()"
   ]
  },
  {
   "cell_type": "code",
   "execution_count": null,
   "id": "e91e0dc5",
   "metadata": {},
   "outputs": [],
   "source": [
    "X = []\n",
    "Y = []\n",
    "\n",
    "x = -50\n",
    "for i in range(-51, 51):\n",
    "    \n",
    "    if x < 0: funx = (x**2)**0.5\n",
    "    else: funx = x\n",
    "    \n",
    "    X.append(x)\n",
    "    \n",
    "    Y.append(funx)\n",
    "  \n",
    "    x += 1\n",
    "    \n",
    "\n",
    "\n",
    "\n",
    "\n",
    "plt.title(\"modulus function\")\n",
    "plt.xlabel(\"x\")\n",
    "plt.ylabel(\"f(x) or Y\")\n",
    "plt.plot(X, Y, 0.5)\n",
    "plt.grid(color = 'red', linewidth = 0.5)\n",
    "plt.show()"
   ]
  },
  {
   "cell_type": "code",
   "execution_count": null,
   "id": "ff29b959",
   "metadata": {},
   "outputs": [],
   "source": [
    "X = []\n",
    "Y = []\n",
    "\n",
    "\n",
    "for x in range(-5, 5):\n",
    "    \n",
    "    for j in range(0,100):\n",
    "\n",
    "        x = x - 1/100\n",
    "    \n",
    "        fun_x = math.floor(x)\n",
    "\n",
    "        \n",
    "    \n",
    "        X.append(x)\n",
    "\n",
    "        Y.append(fun_x)\n",
    "  \n",
    "    x += 1\n",
    "    j += 1\n",
    "\n",
    "\n",
    "\n",
    "\n",
    "plt.title(\"greatest integer function\")\n",
    "plt.xlabel(\"x\")\n",
    "plt.ylabel(\"f(x) or Y\")\n",
    "plt.scatter(X, Y, 5)\n",
    "plt.grid(color = 'red', linewidth = 0.5)\n",
    "plt.show()"
   ]
  },
  {
   "cell_type": "code",
   "execution_count": null,
   "id": "b4d777c1",
   "metadata": {},
   "outputs": [],
   "source": [
    "X = []\n",
    "Y = []\n",
    "\n",
    "\n",
    "for x in range(-5, 5):\n",
    "    \n",
    "    for j in range(0,100):\n",
    "\n",
    "        x = x - 1/100\n",
    "    \n",
    "        fun_x = x - math.floor(x)\n",
    "\n",
    "        \n",
    "    \n",
    "        X.append(x)\n",
    "\n",
    "        Y.append(fun_x)\n",
    "  \n",
    "    x += 1\n",
    "    j += 1\n",
    "\n",
    "\n",
    "\n",
    "\n",
    "plt.title(\"fractional part function\")\n",
    "plt.xlabel(\"x\")\n",
    "plt.ylabel(\"f(x) or Y\")\n",
    "plt.scatter(X, Y, 2)\n",
    "plt.grid(color = 'red', linewidth = 0.5)\n",
    "plt.show()"
   ]
  },
  {
   "cell_type": "code",
   "execution_count": null,
   "id": "b57dcb1e",
   "metadata": {},
   "outputs": [],
   "source": [
    "X = []\n",
    "Y = []\n",
    "\n",
    "x = -50\n",
    "for x in range(-51, 51):\n",
    "    if x != 0:\n",
    "        funx =  x/ (x**2)**0.5\n",
    "    else:\n",
    "        funx = 0\n",
    "    \n",
    "    X.append(x)\n",
    "    \n",
    "    Y.append(funx)\n",
    "  \n",
    "    x += 1\n",
    "    \n",
    "\n",
    "\n",
    "\n",
    "\n",
    "plt.title(\"signum function\")\n",
    "plt.xlabel(\"x\")\n",
    "plt.ylabel(\"f(x) or Y\")\n",
    "plt.plot(X, Y, 2)\n",
    "plt.grid(color = 'red', linewidth = 0.5)\n",
    "plt.show()"
   ]
  },
  {
   "cell_type": "code",
   "execution_count": null,
   "id": "344f39e5",
   "metadata": {},
   "outputs": [],
   "source": [
    "X = []\n",
    "Y = []\n",
    "\n",
    "x = -50\n",
    "for i in range(-51, 51):\n",
    "    \n",
    "    \n",
    "    if x == 0:\n",
    "        pass\n",
    "    else:\n",
    "        funx = 1/x\n",
    "    X.append(x)\n",
    "    \n",
    "    Y.append(funx)\n",
    "  \n",
    "    x += 1\n",
    "    \n",
    "\n",
    "\n",
    "\n",
    "\n",
    "plt.title(\"reciprocal function\")\n",
    "plt.xlabel(\"x\")\n",
    "plt.ylabel(\"f(x) or Y\")\n",
    "plt.plot(X, Y, 0.2)\n",
    "plt.grid(color = 'red', linewidth = 0.5)\n",
    "plt.show()"
   ]
  },
  {
   "cell_type": "code",
   "execution_count": null,
   "id": "a91f64ab",
   "metadata": {},
   "outputs": [],
   "source": [
    "X = []\n",
    "Y = []\n",
    "a = 2\n",
    "\n",
    "for x in range(0, 100):\n",
    "    \n",
    "    funx = x ** 0.5\n",
    "    \n",
    "    X.append(x)\n",
    "    \n",
    "    Y.append(funx)\n",
    "  \n",
    "    x += 1\n",
    "    \n",
    "\n",
    "\n",
    "\n",
    "\n",
    "plt.title(\"square root function\")\n",
    "plt.xlabel(\"x\")\n",
    "plt.ylabel(\"f(x) or Y\")\n",
    "plt.plot(X, Y, 0.5)\n",
    "plt.grid(color = 'red', linewidth = 0.5)\n",
    "plt.show()"
   ]
  },
  {
   "cell_type": "code",
   "execution_count": 16,
   "id": "f3476407",
   "metadata": {},
   "outputs": [
    {
     "name": "stderr",
     "output_type": "stream",
     "text": [
      "/home/bakul/.local/lib/python3.10/site-packages/matplotlib/cbook/__init__.py:1335: ComplexWarning: Casting complex values to real discards the imaginary part\n",
      "  return np.asarray(x, float)\n"
     ]
    },
    {
     "data": {
      "image/png": "[encoded data removed]",
      "text/plain": [
       "<Figure size 432x288 with 1 Axes>"
      ]
     },
     "metadata": {
      "needs_background": "light"
     },
     "output_type": "display_data"
    }
   ],
   "source": [
    "X = []\n",
    "Y = []\n",
    "\n",
    "\n",
    "for x in range(-101, 101):\n",
    "    \n",
    "    if x > 0:\n",
    "        funx = x**(1/3)\n",
    "        \n",
    "    if x < 0:\n",
    "        funx = - x **(1/3)\n",
    "    \n",
    "    X.append(x)\n",
    "    \n",
    "    Y.append(funx)\n",
    "  \n",
    "    x += 1\n",
    "    \n",
    "\n",
    "\n",
    "\n",
    "\n",
    "plt.title(\"cube root function\")\n",
    "plt.xlabel(\"x\")\n",
    "plt.ylabel(\"f(x) or Y\")\n",
    "plt.plot(X, Y, 0.5)\n",
    "plt.grid(color = 'red', linewidth = 0.5)\n",
    "plt.show()"
   ]
  },
  {
   "cell_type": "code",
   "execution_count": 35,
   "id": "4be0ff7c",
   "metadata": {},
   "outputs": [
    {
     "data": {
      "image/png": "[encoded data removed]",
      "text/plain": [
       "<Figure size 432x288 with 1 Axes>"
      ]
     },
     "metadata": {
      "needs_background": "light"
     },
     "output_type": "display_data"
    }
   ],
   "source": [
    "X = []\n",
    "Y = []\n",
    "x = 7\n",
    "a = 3\n",
    "for x in range(-51, 51):\n",
    "    \n",
    "    if x > 1:\n",
    "        funx = math.log(x,a)\n",
    "        \n",
    "    if 0 < x < 1:\n",
    "        funx = -(math.log(x,a))\n",
    "        \n",
    "    if x < 0:\n",
    "        funx = None\n",
    "        \n",
    "    if x == 1:\n",
    "        funx = 0\n",
    "    \n",
    "    X.append(x)\n",
    "    \n",
    "    Y.append(funx)\n",
    "  \n",
    "    x += 1\n",
    "    \n",
    "\n",
    "\n",
    "\n",
    "\n",
    "plt.title(\"logarithmic function where a > 0\")\n",
    "plt.xlabel(\"x\")\n",
    "plt.ylabel(\"f(x) or Y\")\n",
    "plt.plot(X, Y, 0.000001)\n",
    "plt.grid(color = 'red', linewidth = 0.5)\n",
    "plt.show()\n"
   ]
  },
  {
   "cell_type": "code",
   "execution_count": null,
   "id": "1250820f",
   "metadata": {},
   "outputs": [],
   "source": []
  }
 ],
 "metadata": {
  "kernelspec": {
   "display_name": "Python 3 (ipykernel)",
   "language": "python",
   "name": "python3"
  },
  "language_info": {
   "codemirror_mode": {
    "name": "ipython",
    "version": 3
   },
   "file_extension": ".py",
   "mimetype": "text/x-python",
   "name": "python",
   "nbconvert_exporter": "python",
   "pygments_lexer": "ipython3",
   "version": "3.10.6"
  }
 },
 "nbformat": 4,
 "nbformat_minor": 5
}
